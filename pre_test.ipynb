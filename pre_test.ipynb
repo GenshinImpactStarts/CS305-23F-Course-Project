{
 "cells": [
  {
   "cell_type": "code",
   "execution_count": null,
   "metadata": {},
   "outputs": [],
   "source": [
    "import subprocess\n",
    "import requests\n",
    "\n",
    "URL = 'http://127.0.0.1:8080'\n",
    "\n",
    "\n",
    "def execute_and_print(command):\n",
    "    p = subprocess.Popen(\n",
    "        command, stdout=subprocess.PIPE, stderr=subprocess.PIPE)\n",
    "    print(p.stderr.read().decode())\n",
    "    print(p.stdout.read().decode())\n",
    "\n",
    "\n",
    "def print_decoded_chunk(url):\n",
    "    print(requests.get(url, headers={\n",
    "          \"Authorization\": \"Basic Y2xpZW50MToxMjM=\"}).text)"
   ]
  },
  {
   "cell_type": "markdown",
   "metadata": {},
   "source": [
    "GET: normal get"
   ]
  },
  {
   "cell_type": "code",
   "execution_count": null,
   "metadata": {},
   "outputs": [],
   "source": [
    "url = URL\n",
    "execute_and_print(f'curl -v -H \"Authorization: Basic Y2xpZW50MToxMjM=\" --raw {url}')"
   ]
  },
  {
   "cell_type": "markdown",
   "metadata": {},
   "source": [
    "test in chrome:\n",
    "+ Cookie\n",
    "+ 401"
   ]
  },
  {
   "cell_type": "markdown",
   "metadata": {},
   "source": [
    "GET: with ?SUSTech-HTTP=1"
   ]
  },
  {
   "cell_type": "code",
   "execution_count": null,
   "metadata": {},
   "outputs": [],
   "source": [
    "url = URL+'?SUSTech-HTTP=1'\n",
    "execute_and_print(f'curl -v -H \"Authorization: Basic Y2xpZW50MToxMjM=\" --raw {url}')"
   ]
  },
  {
   "cell_type": "markdown",
   "metadata": {},
   "source": [
    "GET: 301 Redirect"
   ]
  },
  {
   "cell_type": "code",
   "execution_count": null,
   "metadata": {},
   "outputs": [],
   "source": [
    "url = URL+'/client1'\n",
    "execute_and_print(f'curl -v -H \"Authorization: Basic Y2xpZW50MToxMjM=\" --raw {url}')"
   ]
  },
  {
   "cell_type": "markdown",
   "metadata": {},
   "source": [
    "GET: 400 Bad Request"
   ]
  },
  {
   "cell_type": "code",
   "execution_count": null,
   "metadata": {},
   "outputs": [],
   "source": [
    "url = URL+'?SU=1'\n",
    "execute_and_print(f'curl -v -H \"Authorization: Basic Y2xpZW50MToxMjM=\" --raw {url}')"
   ]
  },
  {
   "cell_type": "markdown",
   "metadata": {},
   "source": [
    "GET: 404 Not Found"
   ]
  },
  {
   "cell_type": "code",
   "execution_count": null,
   "metadata": {},
   "outputs": [],
   "source": [
    "url = URL+'/1'\n",
    "execute_and_print(f'curl -v -H \"Authorization: Basic Y2xpZW50MToxMjM=\" --raw {url}')"
   ]
  },
  {
   "cell_type": "markdown",
   "metadata": {},
   "source": [
    "GET: 405 Method Not Allowed"
   ]
  },
  {
   "cell_type": "code",
   "execution_count": null,
   "metadata": {},
   "outputs": [],
   "source": [
    "url = URL\n",
    "execute_and_print(f'curl -v -H \"Authorization: Basic Y2xpZW50MToxMjM=\" --raw -X POST {url}')"
   ]
  },
  {
   "cell_type": "markdown",
   "metadata": {},
   "source": [
    "GET: chunk"
   ]
  },
  {
   "cell_type": "code",
   "execution_count": null,
   "metadata": {},
   "outputs": [],
   "source": [
    "url = URL+'?chunked=1'\n",
    "execute_and_print(f'curl -v -H \"Authorization: Basic Y2xpZW50MToxMjM=\" --raw {url}')"
   ]
  },
  {
   "cell_type": "code",
   "execution_count": null,
   "metadata": {},
   "outputs": [],
   "source": [
    "print_decoded_chunk(url)"
   ]
  },
  {
   "cell_type": "markdown",
   "metadata": {},
   "source": [
    "GET: Breakpoint Transmission"
   ]
  },
  {
   "cell_type": "code",
   "execution_count": null,
   "metadata": {},
   "outputs": [],
   "source": [
    "url = URL+'/client1/a.txt'\n",
    "execute_and_print(f'curl -v -H \"Authorization: Basic Y2xpZW50MToxMjM=\" -H \"Range: bytes=0-10\" --raw {url}')"
   ]
  },
  {
   "cell_type": "code",
   "execution_count": null,
   "metadata": {},
   "outputs": [],
   "source": [
    "url = URL+'/client1/a.txt'\n",
    "execute_and_print(f'curl -v -H \"Authorization: Basic Y2xpZW50MToxMjM=\" -H \"Range: bytes=0-5,5-,-5\" --raw {url}')"
   ]
  },
  {
   "cell_type": "markdown",
   "metadata": {},
   "source": [
    "GET: 416 Range Not Satisfiable"
   ]
  },
  {
   "cell_type": "code",
   "execution_count": null,
   "metadata": {},
   "outputs": [],
   "source": [
    "url = URL+'/client1/a.txt'\n",
    "execute_and_print(f'curl -v -H \"Authorization: Basic Y2xpZW50MToxMjM=\" -H \"Range: bytes=20-\" --raw {url}')"
   ]
  }
 ],
 "metadata": {
  "kernelspec": {
   "display_name": "Python 3",
   "language": "python",
   "name": "python3"
  },
  "language_info": {
   "codemirror_mode": {
    "name": "ipython",
    "version": 3
   },
   "file_extension": ".py",
   "mimetype": "text/x-python",
   "name": "python",
   "nbconvert_exporter": "python",
   "pygments_lexer": "ipython3",
   "version": "3.9.6"
  }
 },
 "nbformat": 4,
 "nbformat_minor": 2
}
