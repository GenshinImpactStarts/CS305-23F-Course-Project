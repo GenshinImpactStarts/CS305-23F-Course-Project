{
 "cells": [
  {
   "cell_type": "code",
   "execution_count": 2,
   "metadata": {},
   "outputs": [],
   "source": [
    "import subprocess\n",
    "import requests\n",
    "\n",
    "URL = 'http://127.0.0.1:8080'\n",
    "\n",
    "\n",
    "def execute_and_print(command):\n",
    "    p = subprocess.Popen(\n",
    "        command, stdout=subprocess.PIPE, stderr=subprocess.PIPE)\n",
    "    print(p.stderr.read().decode())\n",
    "    print(p.stdout.read().decode())\n",
    "\n",
    "\n",
    "def print_decoded_chunk(url):\n",
    "    print(requests.get(url, headers={\n",
    "          \"Authorization\": \"Basic Y2xpZW50MToxMjM=\"}).text)"
   ]
  },
  {
   "cell_type": "markdown",
   "metadata": {},
   "source": [
    "GET: normal get"
   ]
  },
  {
   "cell_type": "code",
   "execution_count": 4,
   "metadata": {},
   "outputs": [
    {
     "name": "stdout",
     "output_type": "stream",
     "text": [
      "  % Total    % Received % Xferd  Average Speed   Time    Time     Time  Current\n",
      "                                 Dload  Upload   Total   Spent    Left  Speed\n",
      "  0     0    0     0    0     0      0      0 --:--:-- --:--:-- --:--:--     0*   Trying 127.0.0.1:8080...\n",
      "* Connected to 127.0.0.1 (127.0.0.1) port 8080\n",
      "> GET / HTTP/1.1\n",
      "> Host: 127.0.0.1:8080\n",
      "> User-Agent: curl/8.4.0\n",
      "> Accept: */*\n",
      "> Authorization: Basic Y2xpZW50MToxMjM=\n",
      "> \n",
      "  0     0    0     0    0     0      0      0 --:--:--  0:00:03 --:--:--     0< HTTP/1.1 200 OK\n",
      "< Server: GenShinImpactStarts\n",
      "< Content-Type: text/html\n",
      "< Date: Mon, 01 Jan 2024 13:08:31 GMT\n",
      "< Set-Cookie: session-id=vm22o2qWxfGaSNHDQFt6DUAWRedv7D58;\n",
      "< Content-Length: 527\n",
      "< \n",
      "{ [527 bytes data]\n",
      "100   527  100   527    0     0    142      0  0:00:03  0:00:03 --:--:--   142\n",
      "* Connection #0 to host 127.0.0.1 left intact\n",
      "\n",
      "<!DOCTYPE HTML PUBLIC \"-//W3C//DTD HTML 4.01//EN\" \"http://www.w3.org/TR/html4/strict.dtd\">\n",
      "<html>\n",
      "<head>\n",
      "<meta http-equiv=\"Content-Type\" content=\"text/html; charset=utf-8\">\n",
      "<title>Directory listing for ./data/</title>\n",
      "</head>\n",
      "<body>\n",
      "<h1>Directory listing for ./data/</h1>\n",
      "<hr>\n",
      "<ul>\n",
      "<li><a href=\"./\">./</a></li>\n",
      "<li><a href=\"../\">../</a></li>\n",
      "<li><a href=\"a.txt\">a.txt</a></li>\n",
      "<li><a href=\"client1/\">client1/</a></li>\n",
      "<li><a href=\"client2/\">client2/</a></li>\n",
      "<li><a href=\"client3/\">client3/</a></li>\n",
      "</ul>\n",
      "<hr>\n",
      "</body>\n",
      "</html>\n",
      "\n"
     ]
    }
   ],
   "source": [
    "url = URL\n",
    "execute_and_print(\n",
    "    f'curl -v -H \"Authorization: Basic Y2xpZW50MToxMjM=\" --raw {url}')"
   ]
  },
  {
   "cell_type": "code",
   "execution_count": null,
   "metadata": {},
   "outputs": [],
   "source": [
    "url = URL\n",
    "cookie = ''  # TODO\n",
    "execute_and_print(\n",
    "    f'curl -v -H \"Authorization: Basic Y2xpZW50MToxMjM=\" --raw {url}')"
   ]
  },
  {
   "cell_type": "markdown",
   "metadata": {},
   "source": [
    "test in chrome:\n",
    "+ Cookie\n",
    "+ html\n",
    "+ 301 Redirect"
   ]
  },
  {
   "cell_type": "markdown",
   "metadata": {},
   "source": [
    "GET: with ?SUSTech-HTTP=1"
   ]
  },
  {
   "cell_type": "code",
   "execution_count": null,
   "metadata": {},
   "outputs": [],
   "source": [
    "url = URL+'?SUSTech-HTTP=1'\n",
    "execute_and_print(\n",
    "    f'curl -v -H \"Authorization: Basic Y2xpZW50MToxMjM=\" --raw {url}')"
   ]
  },
  {
   "cell_type": "markdown",
   "metadata": {},
   "source": [
    "GET: 301 Redirect"
   ]
  },
  {
   "cell_type": "code",
   "execution_count": null,
   "metadata": {},
   "outputs": [],
   "source": [
    "url = URL+'/client1'\n",
    "execute_and_print(\n",
    "    f'curl -v -H \"Authorization: Basic Y2xpZW50MToxMjM=\" --raw {url}')"
   ]
  },
  {
   "cell_type": "markdown",
   "metadata": {},
   "source": [
    "GET: 400 Bad Request"
   ]
  },
  {
   "cell_type": "code",
   "execution_count": null,
   "metadata": {},
   "outputs": [],
   "source": [
    "url = URL+'?SU=1'\n",
    "execute_and_print(\n",
    "    f'curl -v -H \"Authorization: Basic Y2xpZW50MToxMjM=\" --raw {url}')"
   ]
  },
  {
   "cell_type": "markdown",
   "metadata": {},
   "source": [
    "GET: 401 Unauthorized"
   ]
  },
  {
   "cell_type": "code",
   "execution_count": null,
   "metadata": {},
   "outputs": [],
   "source": [
    "url = URL\n",
    "execute_and_print(\n",
    "    f'curl -v --raw {url}')"
   ]
  },
  {
   "cell_type": "code",
   "execution_count": null,
   "metadata": {},
   "outputs": [],
   "source": [
    "url = URL\n",
    "execute_and_print(\n",
    "    f'curl -v -H \"Authorization: Basic Y2xpZW50MToxMj\" --raw {url}')"
   ]
  },
  {
   "cell_type": "code",
   "execution_count": null,
   "metadata": {},
   "outputs": [],
   "source": [
    "url = URL\n",
    "execute_and_print(\n",
    "    f'curl -v --cookie \"session-id=1111\" --raw {url}')"
   ]
  },
  {
   "cell_type": "markdown",
   "metadata": {},
   "source": [
    "GET: 404 Not Found"
   ]
  },
  {
   "cell_type": "code",
   "execution_count": null,
   "metadata": {},
   "outputs": [],
   "source": [
    "url = URL+'/1'\n",
    "execute_and_print(\n",
    "    f'curl -v -H \"Authorization: Basic Y2xpZW50MToxMjM=\" --raw {url}')"
   ]
  },
  {
   "cell_type": "markdown",
   "metadata": {},
   "source": [
    "GET: 405 Method Not Allowed"
   ]
  },
  {
   "cell_type": "code",
   "execution_count": null,
   "metadata": {},
   "outputs": [],
   "source": [
    "url = URL\n",
    "execute_and_print(\n",
    "    f'curl -v -H \"Authorization: Basic Y2xpZW50MToxMjM=\" --raw -X POST {url}')"
   ]
  },
  {
   "cell_type": "markdown",
   "metadata": {},
   "source": [
    "GET: chunk"
   ]
  },
  {
   "cell_type": "code",
   "execution_count": null,
   "metadata": {},
   "outputs": [],
   "source": [
    "url = URL+'?chunked=1'\n",
    "execute_and_print(\n",
    "    f'curl -v -H \"Authorization: Basic Y2xpZW50MToxMjM=\" --raw {url}')"
   ]
  },
  {
   "cell_type": "code",
   "execution_count": null,
   "metadata": {},
   "outputs": [],
   "source": [
    "print_decoded_chunk(url)"
   ]
  },
  {
   "cell_type": "code",
   "execution_count": 13,
   "metadata": {},
   "outputs": [
    {
     "name": "stdout",
     "output_type": "stream",
     "text": [
      "request:\n",
      " POST /upload?path=client2/ HTTP/1.1\n",
      "Host: 127.0.0.1\n",
      "Authorization: Basic Y2xpZW50MToxMjM=\n",
      "Content-Disposition: form-data; name=\"file\"; filename=\"laucher.txt\"\n",
      "Content-Type: text/plain\n",
      "Transfer-Encoding: chunked\n",
      "\n",
      "2\n",
      "12\n",
      "2\n",
      "34\n",
      "2\n",
      "56\n",
      "2\n",
      "78\n",
      "0\n",
      "\n",
      "\n",
      "Response:\n",
      " HTTP/1.1 403 Forbidden\n",
      "Server: GenShinImpactStarts\n",
      "Date: Mon, 01 Jan 2024 13:21:51 GMT\n",
      "Set-Cookie: session-id=AMouCeiiesAef7PyeyxdpxGaykjzJoKT;\n",
      "Content-Length: 0\n",
      "\n",
      "\n"
     ]
    }
   ],
   "source": [
    "from m_http.client import Client\n",
    "client = Client(\"127.0.0.1\", 8080)\n",
    "client.headers[\"Content-Disposition\"]=\"form-data; name=\\\"file\\\"; filename=\\\"laucher.txt\\\"\"\n",
    "client.send_request(\"POST\", \"/upload?path=client2/\",file_path=\".\\data\\client2\\Genshin Impact\\laucher.txt\", headers=client.headers,isChunk=True)"
   ]
  },
  {
   "cell_type": "markdown",
   "metadata": {},
   "source": [
    "GET: Breakpoint Transmission"
   ]
  },
  {
   "cell_type": "code",
   "execution_count": null,
   "metadata": {},
   "outputs": [],
   "source": [
    "url = URL+'/client1/a.txt'\n",
    "execute_and_print(\n",
    "    f'curl -v -H \"Authorization: Basic Y2xpZW50MToxMjM=\" -H \"Range: bytes=0-1\" --raw {url}')"
   ]
  },
  {
   "cell_type": "code",
   "execution_count": null,
   "metadata": {},
   "outputs": [],
   "source": [
    "url = URL+'/client1/a.txt'\n",
    "execute_and_print(\n",
    "    f'curl -v -H \"Authorization: Basic Y2xpZW50MToxMjM=\" -H \"Range: bytes=0-5,5-,-5\" --raw {url}')"
   ]
  },
  {
   "cell_type": "markdown",
   "metadata": {},
   "source": [
    "GET: 416 Range Not Satisfiable"
   ]
  },
  {
   "cell_type": "code",
   "execution_count": null,
   "metadata": {},
   "outputs": [],
   "source": [
    "url = URL+'/client1/a.txt'\n",
    "execute_and_print(\n",
    "    f'curl -v -H \"Authorization: Basic Y2xpZW50MToxMjM=\" -H \"Range: bytes=20-\" --raw {url}')"
   ]
  },
  {
   "cell_type": "markdown",
   "metadata": {},
   "source": [
    "POST: upload"
   ]
  },
  {
   "cell_type": "code",
   "execution_count": null,
   "metadata": {},
   "outputs": [],
   "source": [
    "url = URL+'/upload?path=client1/'\n",
    "execute_and_print(\n",
    "    f'curl -v -H \"Authorization: Basic Y2xpZW50MToxMjM=\" -H \"Content-Disposition: form-data; name=\"file\"; filename=\"a.txt\"\" -d \"sadfsdfasdf\" --raw {url}')"
   ]
  },
  {
   "cell_type": "markdown",
   "metadata": {},
   "source": [
    "POST: upload 400 Bad Request"
   ]
  },
  {
   "cell_type": "code",
   "execution_count": null,
   "metadata": {},
   "outputs": [],
   "source": [
    "url = URL+'/upload?path='\n",
    "execute_and_print(\n",
    "    f'curl -v -H \"Authorization: Basic Y2xpZW50MToxMjM=\" -H \"Content-Disposition: form-data; name=\"file\"; filename=\"a.txt\"\" -d \"sadfsdfasdf\" --raw {url}')"
   ]
  },
  {
   "cell_type": "markdown",
   "metadata": {},
   "source": [
    "POST: upload 401 Unauthorized"
   ]
  },
  {
   "cell_type": "code",
   "execution_count": null,
   "metadata": {},
   "outputs": [],
   "source": [
    "url = URL+'/upload?path=client1/'\n",
    "execute_and_print(\n",
    "    f'curl -v -H \"Content-Disposition: form-data; name=\"file\"; filename=\"a.txt\"\" -d \"sadfsdfasdf\" --raw {url}')"
   ]
  },
  {
   "cell_type": "code",
   "execution_count": null,
   "metadata": {},
   "outputs": [],
   "source": [
    "url = URL+'/upload?path=client1/'\n",
    "execute_and_print(\n",
    "    f'curl -v -H \"Authorization: Basic Y\" -H \"Content-Disposition: form-data; name=\"file\"; filename=\"a.txt\"\" -d \"sadfsdfasdf\" --raw {url}')"
   ]
  },
  {
   "cell_type": "code",
   "execution_count": null,
   "metadata": {},
   "outputs": [],
   "source": [
    "url = URL+'/upload?path=client1/'\n",
    "execute_and_print(\n",
    "    f'curl -v --cookie \"session-id=1111\" -H \"Content-Disposition: form-data; name=\"file\"; filename=\"a.txt\"\" -d \"sadfsdfasdf\" --raw {url}')"
   ]
  },
  {
   "cell_type": "markdown",
   "metadata": {},
   "source": [
    "POST: upload 403 Forbidden"
   ]
  },
  {
   "cell_type": "code",
   "execution_count": null,
   "metadata": {},
   "outputs": [],
   "source": [
    "url = URL+'/upload?path=client2/'\n",
    "execute_and_print(\n",
    "    f'curl -v -H \"Authorization: Basic Y2xpZW50MToxMjM=\" -H \"Content-Disposition: form-data; name=\"file\"; filename=\"a.txt\"\" -d \"sadfsdfasdf\" --raw {url}')"
   ]
  },
  {
   "cell_type": "markdown",
   "metadata": {},
   "source": [
    "POST: upload 404 Not Found"
   ]
  },
  {
   "cell_type": "code",
   "execution_count": null,
   "metadata": {},
   "outputs": [],
   "source": [
    "url = URL+'/upload?path=client1/1/'\n",
    "execute_and_print(\n",
    "    f'curl -v -H \"Authorization: Basic Y2xpZW50MToxMjM=\" -H \"Content-Disposition: form-data; name=\"file\"; filename=\"a.txt\"\" -d \"sadfsdfasdf\" --raw {url}')"
   ]
  },
  {
   "cell_type": "markdown",
   "metadata": {},
   "source": [
    "POST: upload 405 Method Not Allowed"
   ]
  },
  {
   "cell_type": "code",
   "execution_count": null,
   "metadata": {},
   "outputs": [],
   "source": [
    "url = URL+'/upload?path=client1/'\n",
    "execute_and_print(\n",
    "    f'curl -v -H \"Authorization: Basic Y2xpZW50MToxMjM=\" -H \"Content-Disposition: form-data; name=\"file\"; filename=\"a.txt\"\" -d \"sadfsdfasdf\" --raw -X GET {url}')"
   ]
  },
  {
   "cell_type": "markdown",
   "metadata": {},
   "source": [
    "POST: delete"
   ]
  },
  {
   "cell_type": "code",
   "execution_count": null,
   "metadata": {},
   "outputs": [],
   "source": [
    "url = URL+'/delete?path=client1/a.txt'\n",
    "execute_and_print(\n",
    "    f'curl -v -H \"Authorization: Basic Y2xpZW50MToxMjM=\" --raw -X POST {url}')"
   ]
  },
  {
   "cell_type": "markdown",
   "metadata": {},
   "source": [
    "POST: delete 400 Bad Request"
   ]
  },
  {
   "cell_type": "code",
   "execution_count": null,
   "metadata": {},
   "outputs": [],
   "source": [
    "url = URL+'/delete?path='\n",
    "execute_and_print(\n",
    "    f'curl -v -H \"Authorization: Basic Y2xpZW50MToxMjM=\" --raw -X POST {url}')"
   ]
  },
  {
   "cell_type": "markdown",
   "metadata": {},
   "source": [
    "POST: delete 401 Unauthorized"
   ]
  },
  {
   "cell_type": "code",
   "execution_count": null,
   "metadata": {},
   "outputs": [],
   "source": [
    "url = URL+'/delete?path=client1/a.txt'\n",
    "execute_and_print(\n",
    "    f'curl -v --raw -X POST {url}')"
   ]
  },
  {
   "cell_type": "code",
   "execution_count": null,
   "metadata": {},
   "outputs": [],
   "source": [
    "url = URL+'/delete?path=client1/a.txt'\n",
    "execute_and_print(\n",
    "    f'curl -v -H \"Authorization: Basic Y2xpZW\" --raw -X POST {url}')"
   ]
  },
  {
   "cell_type": "code",
   "execution_count": null,
   "metadata": {},
   "outputs": [],
   "source": [
    "url = URL+'/delete?path=client1/a.txt'\n",
    "execute_and_print(\n",
    "    f'curl -v --cookie \"session-id=222\" --raw -X POST {url}')"
   ]
  },
  {
   "cell_type": "markdown",
   "metadata": {},
   "source": [
    "POST: delete 403 Forbidden"
   ]
  },
  {
   "cell_type": "code",
   "execution_count": null,
   "metadata": {},
   "outputs": [],
   "source": [
    "url = URL+'/upload?path=client2/a.txt'\n",
    "execute_and_print(\n",
    "    f'curl -v -H \"Authorization: Basic Y2xpZW50MToxMjM=\" -X POST --raw {url}')"
   ]
  },
  {
   "cell_type": "markdown",
   "metadata": {},
   "source": [
    "POST: delete 404 Not Found"
   ]
  },
  {
   "cell_type": "code",
   "execution_count": null,
   "metadata": {},
   "outputs": [],
   "source": [
    "url = URL+'/delete?path=client1/b.txt'\n",
    "execute_and_print(\n",
    "    f'curl -v -H \"Authorization: Basic Y2xpZW50MToxMjM=\" --raw -X POST {url}')"
   ]
  },
  {
   "cell_type": "markdown",
   "metadata": {},
   "source": [
    "POST: delete 405 Method Not Allowed"
   ]
  },
  {
   "cell_type": "code",
   "execution_count": null,
   "metadata": {},
   "outputs": [],
   "source": [
    "url = URL+'/delete?path=client1/a.txt'\n",
    "execute_and_print(\n",
    "    f'curl -v -H \"Authorization: Basic Y2xpZW50MToxMjM=\" --raw -X GET {url}')"
   ]
  },
  {
   "cell_type": "markdown",
   "metadata": {},
   "source": [
    "Encryption (by Diffie–Hellman key exchange)"
   ]
  },
  {
   "cell_type": "code",
   "execution_count": null,
   "metadata": {},
   "outputs": [],
   "source": [
    "import os\n",
    "import sys\n",
    "from m_http.dh.server import Server\n",
    "from m_http.dh.client import Client\n",
    "import base64\n",
    "from time import sleep\n",
    "\n",
    "IP = '127.0.0.1'\n",
    "PORT = 8000\n",
    "\n",
    "USER_NAME = 'client1'\n",
    "USER_PWD = '123'\n",
    "\n",
    "METHOD = 'GET'\n",
    "URL = '/'\n",
    "BODY = None\n",
    "HEADERS = {'Authorization': 'Basic ' +\n",
    "           base64.b64encode(f'{USER_NAME}:{USER_PWD}'.encode()).decode(),\n",
    "           'Connection': 'close'}\n",
    "FILE_PATH = None\n",
    "\n",
    "if __name__ == \"__main__\":\n",
    "    sys.stderr = open(os.devnull, 'w')\n",
    "    server = Server((IP, PORT), 9999)\n",
    "    server.start()\n",
    "    client = Client(IP, PORT)\n",
    "    client.connect()\n",
    "    print(client.send(METHOD, URL, BODY, HEADERS, FILE_PATH, False).decode())\n",
    "    sleep(1)\n",
    "    client.disconnect()\n",
    "    server.stop()\n"
   ]
  },
  {
   "cell_type": "markdown",
   "metadata": {},
   "source": [
    "![](m_http/dh/img/dh.png)"
   ]
  }
 ],
 "metadata": {
  "kernelspec": {
   "display_name": "Python 3",
   "language": "python",
   "name": "python3"
  },
  "language_info": {
   "codemirror_mode": {
    "name": "ipython",
    "version": 3
   },
   "file_extension": ".py",
   "mimetype": "text/x-python",
   "name": "python",
   "nbconvert_exporter": "python",
   "pygments_lexer": "ipython3",
   "version": "3.10.9"
  }
 },
 "nbformat": 4,
 "nbformat_minor": 2
}
